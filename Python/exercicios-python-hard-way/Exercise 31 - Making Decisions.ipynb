{
 "cells": [
  {
   "cell_type": "code",
   "execution_count": 3,
   "metadata": {},
   "outputs": [
    {
     "name": "stdout",
     "output_type": "stream",
     "text": [
      "You enter a dark room with tho doors. Do you go through door #1 or door #2?\n",
      "> 1\n",
      "There's a giant bear eating a cheesecake. \n",
      "What do you do?\n",
      "1. Take the cake.\n",
      "2. Scream at the bear.\n",
      "> 2\n",
      "The bear eats your legs off.\n",
      "You can fix this, call Winry Rockbell...\n"
     ]
    }
   ],
   "source": [
    "from random import randint\n",
    "\n",
    "print('You enter a dark room with tho doors. Do you go through door #1 or door #2?')\n",
    "door = input('> ')\n",
    "if door == '1':\n",
    "    print('There\\'s a giant bear eating a cheesecake. ')\n",
    "    print('What do you do?')\n",
    "    print('1. Take the cake.\\n2. Scream at the bear.')\n",
    "\n",
    "    bear = input('> ')\n",
    "\n",
    "    if bear == '1':\n",
    "        print('The bear eats your face off.')\n",
    "        print('Who are you?')\n",
    "    elif bear == '2':\n",
    "        print('The bear eats your legs off.')\n",
    "        print('You can fix this, call Winry Rockbell...')\n",
    "    else:\n",
    "        print('Well, doing {} is probably better.'.format(bear))\n",
    "        print('Bear runs away')\n",
    "\n",
    "elif door == '2':\n",
    "    print('You stare into the endless abyss at Cthulhu\\'s retina.')\n",
    "    print('1. Cross an old bridge.')\n",
    "    print('2. Try to jump the abyss in a car.')\n",
    "\n",
    "    insanity = input('> ')\n",
    "\n",
    "\n",
    "    if insanity == '1':\n",
    "        choice = randint(1, 2)\n",
    "        if choice == 1:\n",
    "            print('You crossed the bridge safely.')\n",
    "        else:\n",
    "            print('The bridge broke while you were croselif choice == 2:sing.')\n",
    "            print('Good byyyyyyyeeeeee...')\n",
    "    elif insanity == '2':\n",
    "        carjump = randint(1, 2)\n",
    "        if carjump == 1:\n",
    "            print('You didn\\'t speed up enough and fell.')\n",
    "        else:\n",
    "            print('Jumped successfully, have a good trip.')\n",
    "\n",
    "\n",
    "else:\n",
    "    print('You stumble around and fall on a knife and die. Good job!')\n"
   ]
  },
  {
   "cell_type": "code",
   "execution_count": null,
   "metadata": {},
   "outputs": [],
   "source": []
  }
 ],
 "metadata": {
  "kernelspec": {
   "display_name": "Python 3",
   "language": "python",
   "name": "python3"
  },
  "language_info": {
   "codemirror_mode": {
    "name": "ipython",
    "version": 3
   },
   "file_extension": ".py",
   "mimetype": "text/x-python",
   "name": "python",
   "nbconvert_exporter": "python",
   "pygments_lexer": "ipython3",
   "version": "3.6.5"
  }
 },
 "nbformat": 4,
 "nbformat_minor": 2
}
