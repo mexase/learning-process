{
 "cells": [
  {
   "cell_type": "code",
   "execution_count": 4,
   "metadata": {},
   "outputs": [
    {
     "name": "stdout",
     "output_type": "stream",
     "text": [
      "Let's practice everything.\n",
      "You'd need to know 'bout escapes with \\ that do \n",
      " newlines and \t tabs.\n",
      "--------------\n",
      "\tThe lovely world with logic so firmly planted\n",
      "cannot discern \n",
      " the needs of love\n",
      "nor comprehend passion from intuition\n",
      "and requires an explanation\n",
      "\n",
      "\t\twhere there is none.\n",
      "--------------\n",
      "This should be five: 5.\n",
      "With a starting point of: 10000\n",
      "We can also do that this way:\n",
      "We'd have 500000 beans, 500 jars, and 5 crates.\n"
     ]
    }
   ],
   "source": [
    "#The proposal of this exercise is to read and comment on confusing parts.\n",
    "print(\"Let's practice everything.\")\n",
    "print('You\\'d need to know \\'bout escapes with \\\\ that do \\n newlines and \\t tabs.')\n",
    "poem = '''\\tThe lovely world with logic so firmly planted\n",
    "cannot discern \\n the needs of love\n",
    "nor comprehend passion from intuition\n",
    "and requires an explanation\n",
    "\\n\\t\\twhere there is none.'''\n",
    "\n",
    "print('--------------')\n",
    "print(poem)\n",
    "print(\"--------------\")\n",
    "\n",
    "five = 10 - 2 + 3 - 6\n",
    "print(\"This should be five: {}.\".format(five))\n",
    "\n",
    "def secret_formula(started): #A function named secret formula with 'started' parameter.\n",
    "    jelly_beans = started * 500 # Variable jelly_beans = started (start_point) * 500\n",
    "    jars = jelly_beans / 1000 # jars = Dividing jelly_beans / 1000\n",
    "    crates = jars / 100 #crates = Dividing jars / 100.\n",
    "    return jelly_beans, jars, crates # Returns the jelly_beans, jars and crates values.\n",
    "\n",
    "\n",
    "start_point = 10000 # Variable with int 10000.\n",
    "beans, jars, crates = secret_formula(start_point) #The variables beans, jars and crates will receive the returned\n",
    "#values from secret_formula.\n",
    "\n",
    "print(\"With a starting point of: {}\".format(start_point))\n",
    "start_point = start_point / 10\n",
    "print(\"We can also do that this way:\")\n",
    "print(\"We'd have {:.0f} beans, {:.0f} jars, and {:.0f} crates.\".format(*secret_formula(start_point)))"
   ]
  },
  {
   "cell_type": "code",
   "execution_count": null,
   "metadata": {},
   "outputs": [],
   "source": []
  }
 ],
 "metadata": {
  "kernelspec": {
   "display_name": "Python 3",
   "language": "python",
   "name": "python3"
  },
  "language_info": {
   "codemirror_mode": {
    "name": "ipython",
    "version": 3
   },
   "file_extension": ".py",
   "mimetype": "text/x-python",
   "name": "python",
   "nbconvert_exporter": "python",
   "pygments_lexer": "ipython3",
   "version": "3.6.5"
  }
 },
 "nbformat": 4,
 "nbformat_minor": 2
}
