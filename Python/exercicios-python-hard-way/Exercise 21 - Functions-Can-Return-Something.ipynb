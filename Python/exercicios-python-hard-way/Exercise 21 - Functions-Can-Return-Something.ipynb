{
 "cells": [
  {
   "cell_type": "code",
   "execution_count": 1,
   "metadata": {},
   "outputs": [
    {
     "name": "stdout",
     "output_type": "stream",
     "text": [
      "Let's play with numbers!\n",
      "Insert the first number: 7\n",
      "Insert the second number: 36\n",
      "Adding 7 + 36\n",
      "43\n",
      "Subtracting 7 - 36\n",
      "-29\n",
      "Multiplying 7 * 36\n",
      "252\n",
      "Dividing 7 / 36\n",
      "0.19444444444444445\n"
     ]
    }
   ],
   "source": [
    "print('Let\\'s play with numbers!')\n",
    "value1 = int(input('Insert the first number: '))\n",
    "value2 = int(input('Insert the second number: '))\n",
    "\n",
    "def add(v1, v2):\n",
    "    print('Adding {} + {}'.format(value1, value2))\n",
    "    return v1 + v2\n",
    "\n",
    "def sub(v1, v2):\n",
    "    print('Subtracting {} - {}'.format(value1, value2))\n",
    "    return v1 - v2\n",
    "\n",
    "def multi(v1, v2):\n",
    "    print('Multiplying {} * {}'.format(value1, value2))\n",
    "    return v1 * v2 \n",
    "\n",
    "def div(v1, v2):\n",
    "    print('Dividing {} / {}'.format(value1, value2))\n",
    "    return v1 / v2\n",
    "\n",
    "madd = add(value1, value2)\n",
    "print(madd)\n",
    "\n",
    "msub = sub(value1, value2)\n",
    "print(msub)\n",
    "mmul = multi(value1, value2)\n",
    "print(mmul)\n",
    "mdiv = div(value1, value2)\n",
    "print(mdiv)"
   ]
  },
  {
   "cell_type": "code",
   "execution_count": 3,
   "metadata": {},
   "outputs": [
    {
     "name": "stdout",
     "output_type": "stream",
     "text": [
      "Insert your weight. ex 72 or 72.3: 64\n",
      "Insert your height. ex 1.81: 1.71\n",
      "The informed values was, weight: 64.0 and height: 1.71, this is correct? \n",
      "Type yes or no: yes\n",
      "Your IMC is 24.0. Congratulations, you have the right weight!\n"
     ]
    }
   ],
   "source": [
    "''''This is another example. Using weight and height, this program will calculate the CMI\n",
    "    and show a score from severe thinness to morbid obesity.'''\n",
    "\n",
    "while True:  # tests whether the condition is true.\n",
    "    weight = float(input('Insert your weight. Ex 72 or 72.3: '))\n",
    "    height = float(input('Insert your height. ex 1.81: '))\n",
    "    print('The informed values was, weight: {} and height: {:.2f}, this is correct? '.format(weight, height))\n",
    "    confirm = str(input('Type yes or no: ')).upper()\n",
    "    if confirm == 'YES':#Oh no, I typed it wrong! Just type \"no\" and return true. Ops try again!\n",
    "        break  # breaks the repetition loop.\n",
    "\n",
    "\n",
    "def cmi(w, h):\n",
    "    return (w * w) / h  # returns the value of the calculation\n",
    "\n",
    "\n",
    "cmiv = cmi(weight, height)  # Give the positional values to cmi function.\n",
    "cmicalc = cmiv / 100  # Lower the decimals\n",
    "\n",
    "if cmicalc <= 15.99:  # Is cmicalc below 15.99 score?\n",
    "    print('Your cmi is {:.1f} and you\\'re in the serious thinning range. Consult a physician.'.format(cmicalc))\n",
    "\n",
    "elif cmicalc >= 16.00 and cmicalc <= 16.99:  # Is cmicalc under 16.00 and 16.99?\n",
    "    print('Your cmi is {:.1f} and you\\'re in the moderated thinning range. Consult a physician.'.format(cmicalc))\n",
    "\n",
    "elif cmicalc >= 17.00 and cmicalc <= 18.49:\n",
    "    print('Your cmi is {:.1f}. You\\'re lightly thin!'.format(cmicalc))\n",
    "\n",
    "elif cmicalc >= 18.50 and cmicalc <= 24.99:\n",
    "    print('Your cmi is {:.1f}. Congratulations, you have the right weight!'.format(cmicalc))\n",
    "\n",
    "elif cmicalc >= 24.99 and cmicalc <= 29.99:\n",
    "    print('Your cmi is {:.1f}. You are overweight.'.format(cmicalc))\n",
    "\n",
    "elif cmicalc >= 30.00 and cmicalc <= 34.99:\n",
    "    print('Your cmi is {:.1f}. You\\'re with obesity grade I. Consult a physician.'.format(cmicalc))\n",
    "\n",
    "elif cmicalc >= 35.00 and cmicalc <= 39.99:\n",
    "    print('Your cmi is {:.1f}. You\\'re with obesity grade II (Moderate). Consult a physician.'.format(cmicalc))\n",
    "\n",
    "elif cmicalc >= 40.00:  # is cmicalc over 40?\n",
    "    print('Your cmi is {:.1f}. You\\'re with obesity grade III (Severe). Consult a physician.'.format(cmicalc))\n"
   ]
  },
  {
   "cell_type": "code",
   "execution_count": null,
   "metadata": {},
   "outputs": [],
   "source": []
  }
 ],
 "metadata": {
  "kernelspec": {
   "display_name": "Python 3",
   "language": "python",
   "name": "python3"
  },
  "language_info": {
   "codemirror_mode": {
    "name": "ipython",
    "version": 3
   },
   "file_extension": ".py",
   "mimetype": "text/x-python",
   "name": "python",
   "nbconvert_exporter": "python",
   "pygments_lexer": "ipython3",
   "version": "3.6.5"
  }
 },
 "nbformat": 4,
 "nbformat_minor": 2
}
