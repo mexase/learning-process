{
 "cells": [
  {
   "cell_type": "code",
   "execution_count": 3,
   "metadata": {},
   "outputs": [
    {
     "name": "stdout",
     "output_type": "stream",
     "text": [
      "Enter a phrase: Give papa a cup of proper coffe in a copper coffe cup.\n",
      "Breaked words\n",
      "['Give', 'papa', 'a', 'cup', 'of', 'proper', 'coffe', 'in', 'a', 'copper', 'coffe', 'cup.']\n",
      "\n",
      "\n",
      "Sorted words\n",
      "\n",
      "[' ', ' ', ' ', ' ', ' ', ' ', ' ', ' ', ' ', ' ', ' ', '.', 'G', 'a', 'a', 'a', 'a', 'c', 'c', 'c', 'c', 'c', 'e', 'e', 'e', 'e', 'e', 'f', 'f', 'f', 'f', 'f', 'i', 'i', 'n', 'o', 'o', 'o', 'o', 'o', 'p', 'p', 'p', 'p', 'p', 'p', 'p', 'p', 'r', 'r', 'r', 'u', 'u', 'v']\n",
      "\n",
      "\n",
      "Print first word\n",
      "Give\n",
      "\n",
      "\n",
      "Print last word\n",
      "cup.\n",
      "\n",
      "\n",
      "Sorted sentence\n",
      "['Give', 'a', 'a', 'coffe', 'coffe', 'copper', 'cup', 'cup.', 'in', 'of', 'papa', 'proper']\n",
      "\n",
      "\n",
      "First and last words\n",
      "Give\n",
      "cup.\n",
      "\n",
      "\n",
      "First and last sorted\n",
      "Give\n",
      "proper\n"
     ]
    }
   ],
   "source": [
    "entry = str(input('Enter a phrase: '))\n",
    "\n",
    "def break_words(stuff):\n",
    "    words = stuff.split(' ')\n",
    "    return words\n",
    "\n",
    "def sort_words(words):\n",
    "    return sorted(words)\n",
    "\n",
    "def print_first_word(words):\n",
    "    word = words.pop(0)\n",
    "    print(word)\n",
    "\n",
    "def print_last_word(words):\n",
    "    word = words.pop(-1)\n",
    "    print(word)\n",
    "\n",
    "def sort_sentence(sentense):\n",
    "    words = break_words(sentense)\n",
    "    return sort_words(words)\n",
    "\n",
    "def print_first_and_last(sentense):\n",
    "    words = break_words(sentense)\n",
    "    print_first_word(words)\n",
    "    print_last_word(words)\n",
    "\n",
    "def print_first_and_last_sorted(sentense):\n",
    "    words = sort_sentence(sentense)\n",
    "    print_first_word(words)\n",
    "    print_last_word(words)\n",
    "\n",
    "\n",
    "print('Breaked words')\n",
    "print(break_words(entry))\n",
    "print('\\n')\n",
    "print('Sorted words\\n')\n",
    "print(sort_words(entry))\n",
    "print('\\n')\n",
    "print('Print first word')\n",
    "print_first_word(break_words(entry))\n",
    "print('\\n')\n",
    "print('Print last word')\n",
    "print_last_word(break_words(entry))\n",
    "print('\\n')\n",
    "print('Sorted sentence')\n",
    "print(sort_sentence(entry))\n",
    "print('\\n')\n",
    "print('First and last words')\n",
    "print_first_and_last(entry)\n",
    "print('\\n')\n",
    "print('First and last sorted')\n",
    "print_fisrt_and_last_sorted(entry)\n"
   ]
  },
  {
   "cell_type": "code",
   "execution_count": null,
   "metadata": {},
   "outputs": [],
   "source": []
  }
 ],
 "metadata": {
  "kernelspec": {
   "display_name": "Python 3",
   "language": "python",
   "name": "python3"
  },
  "language_info": {
   "codemirror_mode": {
    "name": "ipython",
    "version": 3
   },
   "file_extension": ".py",
   "mimetype": "text/x-python",
   "name": "python",
   "nbconvert_exporter": "python",
   "pygments_lexer": "ipython3",
   "version": "3.6.5"
  }
 },
 "nbformat": 4,
 "nbformat_minor": 2
}
