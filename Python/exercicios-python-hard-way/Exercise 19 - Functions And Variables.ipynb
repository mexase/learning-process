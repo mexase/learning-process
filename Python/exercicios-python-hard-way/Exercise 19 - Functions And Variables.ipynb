{
 "cells": [
  {
   "cell_type": "code",
   "execution_count": 9,
   "metadata": {},
   "outputs": [
    {
     "name": "stdout",
     "output_type": "stream",
     "text": [
      "Em qual unidade deseja calcular? Kg(BR) ou Lb(EUA), digite BR ou EUA. \n",
      "Which unit do you want to calculate? Kg(BR) or Lb(EUA) type BR or EUA: BR\n",
      "Digite o número de convidados: 21\n",
      "A quantidade de cerveja para esses convidados são 84 latões, \n",
      "e 6.30 kg de carne.\n"
     ]
    }
   ],
   "source": [
    "choice = str(input('Em qual unidade deseja calcular? Kg(BR) ou Lb(EUA), digite BR ou EUA. \\nWhich unit do you want to '\n",
    "                   'calculate? Kg(BR) or Lb(EUA) type BR or EUA: ')).upper()\n",
    "if choice == 'EUA':\n",
    "    guests = (int(input('Enter the number of guests: ')))\n",
    "    beer = guests*4 # Number od guests * beer cans.#\n",
    "    kg = (guests*300)/1000 # Number of guests * 300 gramas(BR) /1000  .\n",
    "    lbs = kg*2.20462 # Conversion from Kg(BR) to Lb(EUA)\n",
    "    print('The amount of beer for your guests is {} cans, \\n'\n",
    "          'and {:.2f} Lb of meat.'.format(beer, lbs))\n",
    "    def barbecue(beer, lbs):  # Function with variables from script\n",
    "        barbecue(beer, lbs) #Calling function with variables.\n",
    "\n",
    "elif choice == 'BR':\n",
    "    guests = (int(input('Digite o número de convidados: ')))\n",
    "    beer = guests*4 # Number od guests * beer cans.\n",
    "    kg = (guests*300)/1000 # Number of guests * 300 gramas(BR) /1000  .\n",
    "    print('A quantidade de cerveja para esses convidados são {} latões, \\n'\n",
    "          'e {:.2f} kg de carne.'.format(beer, kg))# Just a \n",
    "    def barbecue(beer, kg): # Function with variables from script\n",
    "        barbecue(beer, kg) #Calling function with variables.\n",
    "\n",
    "else:\n",
    "    print('Please, type BR ou EUA.\\nPor favor digite BR ou EUA.')"
   ]
  },
  {
   "cell_type": "code",
   "execution_count": 4,
   "metadata": {},
   "outputs": [
    {
     "name": "stdout",
     "output_type": "stream",
     "text": [
      "Digite a quantidade de convidados: 21\n",
      "A quantidade de cerveja e carne neste churrasco será de:\n",
      "Cerveja: 84 Latões.\n",
      "Carne: 6.3 Kg.\n"
     ]
    }
   ],
   "source": [
    "def churrascomath(cerva, carne): # função com variáveis\n",
    "    conv = int(input('Digite a quantidade de convidados: '))\n",
    "    print('A quantidade de cerveja e carne neste churrasco será de:')\n",
    "    print('Cerveja:', cerva*conv, 'Latões.')\n",
    "    print('Carne:', (carne*conv)/1000,'Kg.')\n",
    "\n",
    "churrascomath(cerva=4, carne=300) # Os valores das variáveis para os cálculos foram inseridas\n",
    "                                  # diretamente ao chamar a função."
   ]
  }
 ],
 "metadata": {
  "kernelspec": {
   "display_name": "Python 3",
   "language": "python",
   "name": "python3"
  },
  "language_info": {
   "codemirror_mode": {
    "name": "ipython",
    "version": 3
   },
   "file_extension": ".py",
   "mimetype": "text/x-python",
   "name": "python",
   "nbconvert_exporter": "python",
   "pygments_lexer": "ipython3",
   "version": "3.6.5"
  }
 },
 "nbformat": 4,
 "nbformat_minor": 2
}
