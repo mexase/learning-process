{
 "cells": [
  {
   "cell_type": "code",
   "execution_count": 1,
   "metadata": {},
   "outputs": [
    {
     "name": "stdout",
     "output_type": "stream",
     "text": [
      "Digite o nome do XML: food.xml\n",
      "1 <?xml version=\"1.0\" encoding=\"UTF-8\"?>\n",
      "\n",
      "2 <breakfast_menu>\n",
      "\n",
      "3   <food>\n",
      "\n",
      "4     <name>Belgian Waffles</name>\n",
      "\n",
      "5     <price>$5.95</price>\n",
      "\n"
     ]
    }
   ],
   "source": [
    "# Counting lines in a xml\n",
    "xmlname = str(input('Digite o nome do XML: '))#using food.xml as example.\n",
    "\n",
    "\n",
    "def printxml(xml):#Function to show all file content\n",
    "    print(xml.read()) #read the entire file\n",
    "\n",
    "\n",
    "def xrewind(xml):#Function to rewind the file.\n",
    "    xml.seek(0) #Search the 0 bite on a file.\n",
    "\n",
    "\n",
    "def printx(xcount, xml):#xcount = will receive the line number, xml will receive the object from openxml.\n",
    "    print(xcount, xml.readline())#Printing the line number and one readed line from file.\n",
    "\n",
    "\n",
    "openxml = open(xmlname) #open file and return a file object.\n",
    "#printxml(openxml)#Call and give to xml variable in printxml function, the information from openxml.\n",
    "xrewind(openxml)#Call and give to xml variable in xrewind function, the information from openxml.\n",
    "\n",
    "\n",
    "def lineorder():\n",
    "    xmlcline = 1 #Variable with int 1\n",
    "    printx(xmlcline, openxml)#print number 1 with line 1.\n",
    "    xmlcline = xmlcline +1#print number 2 with line 2.\n",
    "    printx(xmlcline, openxml)\n",
    "    xmlcline = xmlcline +1#print number 3 with line 3.\n",
    "    printx(xmlcline, openxml)\n",
    "    xmlcline = xmlcline +1#print number 4 with line 4.\n",
    "    printx(xmlcline, openxml)\n",
    "    xmlcline = xmlcline +1#print number 5 with line 5.\n",
    "    printx(xmlcline, openxml)\n",
    "\n",
    "lineorder()#call the function lineorder"
   ]
  },
  {
   "cell_type": "code",
   "execution_count": null,
   "metadata": {},
   "outputs": [],
   "source": []
  }
 ],
 "metadata": {
  "kernelspec": {
   "display_name": "Python 3",
   "language": "python",
   "name": "python3"
  },
  "language_info": {
   "codemirror_mode": {
    "name": "ipython",
    "version": 3
   },
   "file_extension": ".py",
   "mimetype": "text/x-python",
   "name": "python",
   "nbconvert_exporter": "python",
   "pygments_lexer": "ipython3",
   "version": "3.6.5"
  }
 },
 "nbformat": 4,
 "nbformat_minor": 2
}
