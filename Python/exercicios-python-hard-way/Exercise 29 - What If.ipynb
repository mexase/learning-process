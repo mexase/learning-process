{
 "cells": [
  {
   "cell_type": "code",
   "execution_count": 1,
   "metadata": {},
   "outputs": [
    {
     "name": "stdout",
     "output_type": "stream",
     "text": [
      "Insert the number of cats: 1\n",
      "Insert the number of dogs: 1567\n",
      "Insert the number of people: 877\n",
      "Not many cats, the world is saved\n",
      "\n",
      "\n",
      "The world is drooled on\n",
      "\n",
      "\n",
      "It's False, people are't greater than or equals to dogs.\n",
      "\n",
      "\n"
     ]
    }
   ],
   "source": [
    "ncatsa = int(input('Insert the number of cats: '))\n",
    "ndogs = int(input('Insert the number of dogs: '))\n",
    "npeople = int(input('Insert the number of people: '))\n",
    "\n",
    "def animals_and_humans (ncatsa, ndogs, npeople):\n",
    "\n",
    "    if npeople < ncatsa:\n",
    "        print('Too many cats! the world is doomed')\n",
    "        print('\\n')\n",
    "\n",
    "    if npeople > ncatsa:\n",
    "        print('Not many cats, the world is saved')\n",
    "        print('\\n')\n",
    "adds False to the string.\n",
    "    if npeople < ndogs:\n",
    "        print('The world is drooled on')\n",
    "        print('\\n')\n",
    "\n",
    "    if npeople > ndogs:\n",
    "        print('The world is dry!')\n",
    "        print('\\n')\n",
    "\n",
    "    ndogs += 5\n",
    "    tof = npeople >= ndogs #Variable for bool, is it true or false?\n",
    "\n",
    "    if tof:#adds True to the string.  \n",
    "        print('It\\'s {}, people is greater or equal to  dogs.'.format(tof))\n",
    "        print('\\n')\n",
    "\n",
    "    if not tof:#adds False to the string.\n",
    "        print('It\\'s {}, people are\\'t greater than or equals to dogs.'.format(tof))\n",
    "        print('\\n')\n",
    "\n",
    "    if npeople == ndogs: #if the number of peolple is equal than dogs.\n",
    "        print('People are dogs')\n",
    "        print('\\n')\n",
    "\n",
    "\n",
    "animals_and_humans(ncatsa, ndogs, npeople)\n"
   ]
  },
  {
   "cell_type": "code",
   "execution_count": null,
   "metadata": {},
   "outputs": [],
   "source": []
  }
 ],
 "metadata": {
  "kernelspec": {
   "display_name": "Python 3",
   "language": "python",
   "name": "python3"
  },
  "language_info": {
   "codemirror_mode": {
    "name": "ipython",
    "version": 3
   },
   "file_extension": ".py",
   "mimetype": "text/x-python",
   "name": "python",
   "nbconvert_exporter": "python",
   "pygments_lexer": "ipython3",
   "version": "3.6.5"
  }
 },
 "nbformat": 4,
 "nbformat_minor": 2
}
