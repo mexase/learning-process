{
 "cells": [
  {
   "cell_type": "code",
   "execution_count": 2,
   "metadata": {},
   "outputs": [
    {
     "name": "stdout",
     "output_type": "stream",
     "text": [
      "Digite seu nome: Diego\n",
      "Digite sua idade: 29\n",
      "Seu nome é Diego e você tem 29 anos de idade.\n",
      "\n",
      "\n",
      "Digite seu nome: Ken Masters\n",
      "Digite sua idade: 57\n",
      "Seu nome é Ken Masters e você tem 57 anos de idade.\n",
      "\n",
      "\n",
      "Digite seu nome: Tiranossauro Rex\n",
      "Digite sua idade: 65000000\n",
      "Seu nome é Tiranossauro Rex e você tem 65000000 anos de idade.\n"
     ]
    }
   ],
   "source": [
    "def regdata(): #def named regdata.\n",
    "    name = str(input('Type your name: ')) #Variable receiving a string from user.\n",
    "    age = int(input('Type your age: ')) #Variable receiving a int from user.\n",
    "    print('Your name is {} and you have {} years of age.'.format(name, age)) #print of name and age.\n",
    "regdata()\n",
    "print('\\n')\n",
    "regdata()\n",
    "print('\\n')\n",
    "regdata() \n",
    "# The function \"regdata\" was called three times, this eliminates the need to write more lines in code."
   ]
  }
 ],
 "metadata": {
  "kernelspec": {
   "display_name": "Python 3",
   "language": "python",
   "name": "python3"
  },
  "language_info": {
   "codemirror_mode": {
    "name": "ipython",
    "version": 3
   },
   "file_extension": ".py",
   "mimetype": "text/x-python",
   "name": "python",
   "nbconvert_exporter": "python",
   "pygments_lexer": "ipython3",
   "version": "3.6.5"
  }
 },
 "nbformat": 4,
 "nbformat_minor": 2
}
