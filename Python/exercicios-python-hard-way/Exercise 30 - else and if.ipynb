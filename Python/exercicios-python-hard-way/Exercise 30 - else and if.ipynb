{
 "cells": [
  {
   "cell_type": "code",
   "execution_count": 3,
   "metadata": {},
   "outputs": [
    {
     "name": "stdout",
     "output_type": "stream",
     "text": [
      "Insert the number of people: 145\n",
      "Insert the number of cars: 52\n",
      "Insert the number of trucks: 12332\n",
      "\n",
      "\n",
      "We should not take cars.\n",
      "That's so many trucks\n",
      "Fine, let's stay home then\n",
      "Man, we need a lot of Diesel.\n"
     ]
    }
   ],
   "source": [
    "people = int(input('Insert the number of people: '))\n",
    "cars = int(input('Insert the number of cars: '))\n",
    "trucks = int(input('Insert the number of trucks: '))\n",
    "print('\\n')\n",
    "if cars > people:  # If the condition is more cars than people 'We should take the cars' will be printed.\n",
    "    print('We should take the cars.')\n",
    "\n",
    "elif cars < people:  # If the condition is less cars than people 'We should not take cars' will be printed.\n",
    "    print('We should not take cars.')\n",
    "\n",
    "else:  # But, what happens when the number of people and cars be the same? Print 'We cant't decide'.\n",
    "    print('We can\\'t decide.')\n",
    "\n",
    "if trucks > cars:\n",
    "    print('That\\'s so many trucks')\n",
    "\n",
    "elif trucks < cars:\n",
    "    print('Maybe we could take the trucks')\n",
    "\n",
    "else:\n",
    "    print('We still cant decide.')\n",
    "\n",
    "if people > trucks:\n",
    "    print('Alright, let\\'s just take the trucks.')\n",
    "\n",
    "else:\n",
    "    print('Fine, let\\'s stay home then')\n",
    "\n",
    "trucksn = trucks > 10000\n",
    "\n",
    "if trucksn: #if trucks number is > than 10000 print, Man, we need a lot of Diesel.\n",
    "    print('Man, we need a lot of Diesel.')"
   ]
  },
  {
   "cell_type": "code",
   "execution_count": null,
   "metadata": {},
   "outputs": [],
   "source": []
  }
 ],
 "metadata": {
  "kernelspec": {
   "display_name": "Python 3",
   "language": "python",
   "name": "python3"
  },
  "language_info": {
   "codemirror_mode": {
    "name": "ipython",
    "version": 3
   },
   "file_extension": ".py",
   "mimetype": "text/x-python",
   "name": "python",
   "nbconvert_exporter": "python",
   "pygments_lexer": "ipython3",
   "version": "3.6.5"
  }
 },
 "nbformat": 4,
 "nbformat_minor": 2
}
